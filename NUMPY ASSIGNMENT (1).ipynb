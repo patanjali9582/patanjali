{
 "cells": [
  {
   "cell_type": "code",
   "execution_count": 2,
   "metadata": {},
   "outputs": [
    {
     "name": "stdout",
     "output_type": "stream",
     "text": [
      "s0 4.25\n",
      "s1 5.5\n",
      "s2 6.75\n",
      "s3 7.75\n",
      "s4 23.5\n",
      "s5 39.5\n",
      "s6 57.25\n",
      "s7 79.25\n",
      "s8 88.0\n",
      "s9 107.5\n"
     ]
    }
   ],
   "source": [
    "import numpy as np\n",
    "x= np.array(([3, 5, 7, 2, 8, 10, 11, 65, 72, 81, 99, 100, 150]))\n",
    "a = len(x)\n",
    "i = 0\n",
    "while(i<a-3):\n",
    "    \n",
    "    s = (x[i]+x[i+1]+x[i+2]+x[i+3])/4\n",
    "    print(\"s\"+ str(i),s)\n",
    "    i += 1"
   ]
  },
  {
   "cell_type": "code",
   "execution_count": null,
   "metadata": {},
   "outputs": [],
   "source": []
  }
 ],
 "metadata": {
  "kernelspec": {
   "display_name": "Python 3",
   "language": "python",
   "name": "python3"
  },
  "language_info": {
   "codemirror_mode": {
    "name": "ipython",
    "version": 3
   },
   "file_extension": ".py",
   "mimetype": "text/x-python",
   "name": "python",
   "nbconvert_exporter": "python",
   "pygments_lexer": "ipython3",
   "version": "3.8.3"
  }
 },
 "nbformat": 4,
 "nbformat_minor": 4
}
