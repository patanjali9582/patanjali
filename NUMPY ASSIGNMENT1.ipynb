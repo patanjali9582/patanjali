{
 "cells": [
  {
   "cell_type": "code",
   "execution_count": 5,
   "metadata": {},
   "outputs": [
    {
     "name": "stdout",
     "output_type": "stream",
     "text": [
      "y0 5.0\n",
      "y1 4.666666666666667\n",
      "y2 5.666666666666667\n",
      "y3 6.666666666666667\n",
      "y4 9.666666666666666\n",
      "y5 28.666666666666668\n",
      "y6 49.333333333333336\n",
      "y7 72.66666666666667\n",
      "y8 84.0\n",
      "y9 93.33333333333333\n",
      "y10 116.33333333333333\n"
     ]
    }
   ],
   "source": [
    "import numpy as np\n",
    "x= np.array(([3, 5, 7, 2, 8, 10, 11, 65, 72, 81, 99, 100, 150]))\n",
    "a = len(x)\n",
    "i = 0\n",
    "while(i<a-2):\n",
    "    \n",
    "    s = (x[i]+x[i+1]+x[i+2])/3\n",
    "    print(\"y\"+ str(i),s)\n",
    "    i += 1"
   ]
  },
  {
   "cell_type": "code",
   "execution_count": null,
   "metadata": {},
   "outputs": [],
   "source": []
  }
 ],
 "metadata": {
  "kernelspec": {
   "display_name": "Python 3",
   "language": "python",
   "name": "python3"
  },
  "language_info": {
   "codemirror_mode": {
    "name": "ipython",
    "version": 3
   },
   "file_extension": ".py",
   "mimetype": "text/x-python",
   "name": "python",
   "nbconvert_exporter": "python",
   "pygments_lexer": "ipython3",
   "version": "3.8.3"
  }
 },
 "nbformat": 4,
 "nbformat_minor": 4
}
