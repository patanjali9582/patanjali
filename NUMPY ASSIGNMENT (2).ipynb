{
 "cells": [
  {
   "cell_type": "code",
   "execution_count": 3,
   "metadata": {},
   "outputs": [
    {
     "name": "stdout",
     "output_type": "stream",
     "text": [
      "y0 4.25\n",
      "y1 5.5\n",
      "y2 6.75\n",
      "y3 7.75\n",
      "y4 23.5\n",
      "y5 39.5\n",
      "y6 57.25\n",
      "y7 79.25\n",
      "y8 88.0\n",
      "y9 107.5\n"
     ]
    }
   ],
   "source": [
    "import numpy as np\n",
    "x= np.array(([3, 5, 7, 2, 8, 10, 11, 65, 72, 81, 99, 100, 150]))\n",
    "a = len(x)\n",
    "i = 0\n",
    "while(i<a-3):\n",
    "    \n",
    "    s = (x[i]+x[i+1]+x[i+2]+x[i+3])/4\n",
    "    print(\"y\"+ str(i),s)\n",
    "    i += 1"
   ]
  },
  {
   "cell_type": "code",
   "execution_count": null,
   "metadata": {},
   "outputs": [],
   "source": []
  }
 ],
 "metadata": {
  "kernelspec": {
   "display_name": "Python 3",
   "language": "python",
   "name": "python3"
  },
  "language_info": {
   "codemirror_mode": {
    "name": "ipython",
    "version": 3
   },
   "file_extension": ".py",
   "mimetype": "text/x-python",
   "name": "python",
   "nbconvert_exporter": "python",
   "pygments_lexer": "ipython3",
   "version": "3.8.3"
  }
 },
 "nbformat": 4,
 "nbformat_minor": 4
}
